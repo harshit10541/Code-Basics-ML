{
 "cells": [
  {
   "cell_type": "code",
   "execution_count": 2,
   "id": "83eac18e-4d16-4e40-9486-29af5d129e6f",
   "metadata": {},
   "outputs": [],
   "source": [
    "from sklearn import svm\n",
    "from sklearn.ensemble import RandomForestClassifier\n",
    "from sklearn.linear_model import LogisticRegression\n",
    "from sklearn.naive_bayes import GaussianNB\n",
    "from sklearn.naive_bayes import MultinomialNB\n",
    "from sklearn.tree import DecisionTreeClassifier"
   ]
  },
  {
   "cell_type": "code",
   "execution_count": 4,
   "id": "8ad57fad-468c-45e6-a78b-3409bacae1a7",
   "metadata": {},
   "outputs": [],
   "source": [
    "from sklearn import datasets\n",
    "digits = datasets.load_digits()\n"
   ]
  },
  {
   "cell_type": "code",
   "execution_count": 8,
   "id": "e4d6ee98-b013-413f-b80b-b133d8916d53",
   "metadata": {},
   "outputs": [],
   "source": [
    "model_params = {\n",
    "    'svm' :  {\n",
    "        'model' : svm.SVC(gamma = 'auto'),\n",
    "        'params' : {\n",
    "            'C' : [1,10,20],\n",
    "            'kernel' : ['rbf', 'linear']\n",
    "        }\n",
    "    }, \n",
    "    'random_forest' :   {\n",
    "        'model' : RandomForestClassifier(),\n",
    "        'params' : {\n",
    "            'n_estimators' : [1,5,10]\n",
    "        }\n",
    "    }, \n",
    "    'logistic_regression':  {\n",
    "        'model' : LogisticRegression(solver = 'liblinear', multi_class = 'auto'),\n",
    "        'params' : {\n",
    "            'C' : [1,5,10]\n",
    "        }\n",
    "    }, \n",
    "    'gaussian':  {\n",
    "        'model' : GaussianNB(),\n",
    "        'params' : {}\n",
    "    }, \n",
    "    'multinomail':  {\n",
    "        'model' : MultinomialNB(),\n",
    "        'params' : {}\n",
    "    }, \n",
    "    'decision_tree':  {\n",
    "        'model' : DecisionTreeClassifier(),\n",
    "        'params' : {\n",
    "            'criterion' : ['gini', 'entropy']\n",
    "        }\n",
    "    }\n",
    "}"
   ]
  },
  {
   "cell_type": "code",
   "execution_count": null,
   "id": "5354d761-3f77-4b5c-a8a2-8ad5309f0a15",
   "metadata": {},
   "outputs": [],
   "source": [
    "from sklearn.model_selection import GridSearchCV\n",
    "import pandas as pd\n",
    "scores=[]\n",
    "\n",
    "for model_name, mp in model_params.items():\n",
    "    clf = GridSearchCV(mp['model'], mp['params'], cv = 5, return_train_score=False)\n",
    "    clf.fit(digits.data, digits.target)\n",
    "    scores.append({\n",
    "        'model' : model_name,\n",
    "        'best_score' : clf.best_score_,\n",
    "        'best_params' : clf.best_params_ \n",
    "    })"
   ]
  }
 ],
 "metadata": {
  "kernelspec": {
   "display_name": "Python 3 (ipykernel)",
   "language": "python",
   "name": "python3"
  },
  "language_info": {
   "codemirror_mode": {
    "name": "ipython",
    "version": 3
   },
   "file_extension": ".py",
   "mimetype": "text/x-python",
   "name": "python",
   "nbconvert_exporter": "python",
   "pygments_lexer": "ipython3",
   "version": "3.11.7"
  }
 },
 "nbformat": 4,
 "nbformat_minor": 5
}
